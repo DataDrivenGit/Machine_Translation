{
 "cells": [
  {
   "cell_type": "code",
   "execution_count": 1,
   "metadata": {
    "colab": {
     "base_uri": "https://localhost:8080/",
     "height": 105
    },
    "colab_type": "code",
    "id": "daVYW8TyODZJ",
    "outputId": "6643abf1-6af9-446f-bc4a-1022bb407ee4"
   },
   "outputs": [
    {
     "name": "stdout",
     "output_type": "stream",
     "text": [
      "`%tensorflow_version` only switches the major version: 1.x or 2.x.\n",
      "You set: `2.x  # Colab only.`. This will be interpreted as: `2.x`.\n",
      "\n",
      "\n",
      "TensorFlow 2.x selected.\n"
     ]
    }
   ],
   "source": [
    "try:\n",
    "  %tensorflow_version 2.x  # Colab only.\n",
    "except Exception:\n",
    "  pass"
   ]
  },
  {
   "cell_type": "code",
   "execution_count": 1,
   "metadata": {
    "colab": {
     "base_uri": "https://localhost:8080/",
     "height": 125
    },
    "colab_type": "code",
    "id": "f3wnlyqCOQ7y",
    "outputId": "d4f53b07-c37b-4ce1-9035-1c14fb1bf9fe"
   },
   "outputs": [],
   "source": [
    "from google.colab import drive\n",
    "drive.mount('/content/drive')"
   ]
  },
  {
   "cell_type": "code",
   "execution_count": 7,
   "metadata": {
    "colab": {
     "base_uri": "https://localhost:8080/",
     "height": 34
    },
    "colab_type": "code",
    "id": "yK3iHTLmOQ_N",
    "outputId": "4d517bc4-91a6-4fd7-c358-25be44856c8b"
   },
   "outputs": [
    {
     "name": "stderr",
     "output_type": "stream",
     "text": [
      "Using TensorFlow backend.\n"
     ]
    }
   ],
   "source": [
    "from keras.models import Model\n",
    "from keras.layers import Input, LSTM, GRU, Dense, Embedding, \\\n",
    "  Bidirectional, RepeatVector, Concatenate, Activation, Dot, Lambda\n",
    "from keras.preprocessing.text import Tokenizer\n",
    "from keras.preprocessing.sequence import pad_sequences\n",
    "import keras.backend as K\n",
    "\n",
    "import numpy as np\n",
    "import matplotlib.pyplot as plt"
   ]
  },
  {
   "cell_type": "code",
   "execution_count": 0,
   "metadata": {
    "colab": {},
    "colab_type": "code",
    "id": "M3lRWE1iORCL"
   },
   "outputs": [],
   "source": [
    "def softmax_over_time(x):\n",
    "  assert(K.ndim(x) > 2)\n",
    "  e = K.exp(x - K.max(x, axis=1, keepdims=True))\n",
    "  s = K.sum(e, axis=1, keepdims=True)\n",
    "  return e / s"
   ]
  },
  {
   "cell_type": "code",
   "execution_count": 0,
   "metadata": {
    "colab": {},
    "colab_type": "code",
    "id": "6hb7W__fORFS"
   },
   "outputs": [],
   "source": [
    "# config\n",
    "BATCH_SIZE = 64\n",
    "EPOCHS = 30\n",
    "LATENT_DIM = 400\n",
    "LATENT_DIM_DECODER = 400 # idea: make it different to ensure things all fit together properly!\n",
    "NUM_SAMPLES = 20000\n",
    "MAX_SEQUENCE_LENGTH = 100\n",
    "MAX_NUM_WORDS = 20000\n",
    "EMBEDDING_DIM = 100\n",
    "DATA_PATH = '/content/drive/My Drive/Dataset/spa-eng/spa.txt'\n",
    "WORD2VEC_PATH = '/content/drive/My Drive/Dataset/WordVectors/glove.6B.100d.txt'"
   ]
  },
  {
   "cell_type": "code",
   "execution_count": 0,
   "metadata": {
    "colab": {},
    "colab_type": "code",
    "id": "2vfMsX88ORIT"
   },
   "outputs": [],
   "source": [
    "# Where we will store the data\n",
    "input_texts = [] # sentence in original language\n",
    "target_texts = [] # sentence in target language\n",
    "target_texts_inputs = [] # sentence in target language offset by 1"
   ]
  },
  {
   "cell_type": "code",
   "execution_count": 13,
   "metadata": {
    "colab": {
     "base_uri": "https://localhost:8080/",
     "height": 34
    },
    "colab_type": "code",
    "id": "BAFkVLaORk3j",
    "outputId": "feaed24d-6395-4812-a58b-9b69ef3f1729"
   },
   "outputs": [
    {
     "name": "stdout",
     "output_type": "stream",
     "text": [
      "num samples: 20000\n"
     ]
    }
   ],
   "source": [
    "# load in the data\n",
    "# download the data at: http://www.manythings.org/anki/\n",
    "t = 0\n",
    "for line in open(DATA_PATH):\n",
    "  # only keep a limited number of samples\n",
    "  t += 1\n",
    "  if t > NUM_SAMPLES:\n",
    "    break\n",
    "\n",
    "  # input and target are separated by tab\n",
    "  if '\\t' not in line:\n",
    "    continue\n",
    "\n",
    "  # split up the input and translation\n",
    "  input_text, translation, *rest = line.rstrip().split('\\t')\n",
    "\n",
    "  # make the target input and output\n",
    "  # recall we'll be using teacher forcing\n",
    "  target_text = translation + ' <eos>'\n",
    "  target_text_input = '<sos> ' + translation\n",
    "\n",
    "  input_texts.append(input_text)\n",
    "  target_texts.append(target_text)\n",
    "  target_texts_inputs.append(target_text_input)\n",
    "print(\"num samples:\", len(input_texts))\n"
   ]
  },
  {
   "cell_type": "code",
   "execution_count": 0,
   "metadata": {
    "colab": {},
    "colab_type": "code",
    "id": "4X_PaB99Rk6X"
   },
   "outputs": [],
   "source": [
    "# tokenize the inputs\n",
    "tokenizer_inputs = Tokenizer(num_words=MAX_NUM_WORDS)\n",
    "tokenizer_inputs.fit_on_texts(input_texts)\n",
    "input_sequences = tokenizer_inputs.texts_to_sequences(input_texts)"
   ]
  },
  {
   "cell_type": "code",
   "execution_count": 15,
   "metadata": {
    "colab": {
     "base_uri": "https://localhost:8080/",
     "height": 34
    },
    "colab_type": "code",
    "id": "7G2iVCWLRk9F",
    "outputId": "484a6079-c570-4e03-981c-439287f58c1f"
   },
   "outputs": [
    {
     "name": "stdout",
     "output_type": "stream",
     "text": [
      "Found 3767 unique input tokens.\n"
     ]
    }
   ],
   "source": [
    "# get the word to index mapping for input language\n",
    "word2idx_inputs = tokenizer_inputs.word_index\n",
    "print('Found %s unique input tokens.' % len(word2idx_inputs))"
   ]
  },
  {
   "cell_type": "code",
   "execution_count": 0,
   "metadata": {
    "colab": {},
    "colab_type": "code",
    "id": "SbgwuE8bRk_7"
   },
   "outputs": [],
   "source": [
    "# determine maximum length input sequence\n",
    "max_len_input = max(len(s) for s in input_sequences)"
   ]
  },
  {
   "cell_type": "code",
   "execution_count": 0,
   "metadata": {
    "colab": {},
    "colab_type": "code",
    "id": "IbDYccTTRlDE"
   },
   "outputs": [],
   "source": [
    "# tokenize the outputs\n",
    "# don't filter out special characters\n",
    "# otherwise <sos> and <eos> won't appear\n",
    "tokenizer_outputs = Tokenizer(num_words=MAX_NUM_WORDS, filters='')\n",
    "tokenizer_outputs.fit_on_texts(target_texts + target_texts_inputs) # inefficient, oh well\n",
    "target_sequences = tokenizer_outputs.texts_to_sequences(target_texts)\n",
    "target_sequences_inputs = tokenizer_outputs.texts_to_sequences(target_texts_inputs)"
   ]
  },
  {
   "cell_type": "code",
   "execution_count": 18,
   "metadata": {
    "colab": {
     "base_uri": "https://localhost:8080/",
     "height": 34
    },
    "colab_type": "code",
    "id": "g7aGOlhIRlId",
    "outputId": "2bd55b66-1285-43a1-ac2c-98a4f81eb03c"
   },
   "outputs": [
    {
     "name": "stdout",
     "output_type": "stream",
     "text": [
      "Found 10516 unique output tokens.\n"
     ]
    }
   ],
   "source": [
    "# get the word to index mapping for output language\n",
    "word2idx_outputs = tokenizer_outputs.word_index\n",
    "print('Found %s unique output tokens.' % len(word2idx_outputs))"
   ]
  },
  {
   "cell_type": "code",
   "execution_count": 0,
   "metadata": {
    "colab": {},
    "colab_type": "code",
    "id": "Kpc3RgX7RlNW"
   },
   "outputs": [],
   "source": [
    "# store number of output words for later\n",
    "# remember to add 1 since indexing starts at 1\n",
    "num_words_output = len(word2idx_outputs) + 1"
   ]
  },
  {
   "cell_type": "code",
   "execution_count": 0,
   "metadata": {
    "colab": {},
    "colab_type": "code",
    "id": "sRlYhkETRlGZ"
   },
   "outputs": [],
   "source": [
    "# determine maximum length output sequence\n",
    "max_len_target = max(len(s) for s in target_sequences)"
   ]
  },
  {
   "cell_type": "code",
   "execution_count": 21,
   "metadata": {
    "colab": {
     "base_uri": "https://localhost:8080/",
     "height": 87
    },
    "colab_type": "code",
    "id": "3uYQUHNCTZx1",
    "outputId": "4c7738aa-d6b5-4463-ca48-b2fba7e92f35"
   },
   "outputs": [
    {
     "name": "stdout",
     "output_type": "stream",
     "text": [
      "encoder_data.shape: (20000, 6)\n",
      "encoder_data[0]: [ 0  0  0  0  0 22]\n",
      "decoder_data[0]: [   2 2851    0    0    0    0    0    0    0    0    0    0    0]\n",
      "decoder_data.shape: (20000, 13)\n"
     ]
    }
   ],
   "source": [
    "# pad the sequences\n",
    "encoder_inputs = pad_sequences(input_sequences, maxlen=max_len_input)\n",
    "print(\"encoder_data.shape:\", encoder_inputs.shape)\n",
    "print(\"encoder_data[0]:\", encoder_inputs[0])\n",
    "\n",
    "decoder_inputs = pad_sequences(target_sequences_inputs, maxlen=max_len_target, padding='post')\n",
    "print(\"decoder_data[0]:\", decoder_inputs[0])\n",
    "print(\"decoder_data.shape:\", decoder_inputs.shape)\n",
    "\n",
    "decoder_targets = pad_sequences(target_sequences, maxlen=max_len_target, padding='post')"
   ]
  },
  {
   "cell_type": "code",
   "execution_count": 0,
   "metadata": {
    "colab": {},
    "colab_type": "code",
    "id": "epTJSTluUO7U"
   },
   "outputs": [],
   "source": [
    "with io.open('/content/gdrive/Place/Of/Your/Choice/glove.6B.300d.txt', encoding='utf8') as f:\n"
   ]
  },
  {
   "cell_type": "code",
   "execution_count": 25,
   "metadata": {
    "colab": {
     "base_uri": "https://localhost:8080/",
     "height": 52
    },
    "colab_type": "code",
    "id": "JHFsvr7HTZ0r",
    "outputId": "66404fa9-becc-4456-813a-d488dc8629ac"
   },
   "outputs": [
    {
     "name": "stdout",
     "output_type": "stream",
     "text": [
      "Loading word vectors...\n",
      "Found 400000 word vectors.\n"
     ]
    }
   ],
   "source": [
    "# store all the pre-trained word vectors\n",
    "print('Loading word vectors...')\n",
    "word2vec = {}\n",
    "with open(WORD2VEC_PATH , encoding='utf8') as f:\n",
    "  # is just a space-separated text file in the format:\n",
    "  # word vec[0] vec[1] vec[2] ...\n",
    "  for line in f:\n",
    "    values = line.split()\n",
    "    word = values[0]\n",
    "    vec = np.asarray(values[1:], dtype='float32')\n",
    "    word2vec[word] = vec\n",
    "print('Found %s word vectors.' % len(word2vec))\n"
   ]
  },
  {
   "cell_type": "code",
   "execution_count": 26,
   "metadata": {
    "colab": {
     "base_uri": "https://localhost:8080/",
     "height": 34
    },
    "colab_type": "code",
    "id": "DDjN3Q7_TZ3n",
    "outputId": "59d13b14-1044-4965-c6a2-12cefbbf34ae"
   },
   "outputs": [
    {
     "name": "stdout",
     "output_type": "stream",
     "text": [
      "Filling pre-trained embeddings...\n"
     ]
    }
   ],
   "source": [
    "# prepare embedding matrix\n",
    "print('Filling pre-trained embeddings...')\n",
    "num_words = min(MAX_NUM_WORDS, len(word2idx_inputs) + 1)\n",
    "embedding_matrix = np.zeros((num_words, EMBEDDING_DIM))\n",
    "for word, i in word2idx_inputs.items():\n",
    "  if i < MAX_NUM_WORDS:\n",
    "    embedding_vector = word2vec.get(word)\n",
    "    if embedding_vector is not None:\n",
    "      # words not found in embedding index will be all zeros.\n",
    "      embedding_matrix[i] = embedding_vector\n",
    "\n"
   ]
  },
  {
   "cell_type": "code",
   "execution_count": 0,
   "metadata": {
    "colab": {},
    "colab_type": "code",
    "id": "9ashVQNrTZ6r"
   },
   "outputs": [],
   "source": [
    "# create embedding layer\n",
    "embedding_layer = Embedding(\n",
    "  num_words,\n",
    "  EMBEDDING_DIM,\n",
    "  weights=[embedding_matrix],\n",
    "  input_length=max_len_input,\n",
    "  # trainable=True\n",
    ")\n"
   ]
  },
  {
   "cell_type": "code",
   "execution_count": 0,
   "metadata": {
    "colab": {},
    "colab_type": "code",
    "id": "sH78-vIFTaA1"
   },
   "outputs": [],
   "source": [
    "# create targets, since we cannot use sparse\n",
    "# categorical cross entropy when we have sequences\n",
    "decoder_targets_one_hot = np.zeros(\n",
    "  (\n",
    "    len(input_texts),\n",
    "    max_len_target,\n",
    "    num_words_output\n",
    "  ),\n",
    "  dtype='float32'\n",
    ")"
   ]
  },
  {
   "cell_type": "code",
   "execution_count": 0,
   "metadata": {
    "colab": {},
    "colab_type": "code",
    "id": "H554CdsmVoMj"
   },
   "outputs": [],
   "source": [
    "# assign the values\n",
    "for i, d in enumerate(decoder_targets):\n",
    "  for t, word in enumerate(d):\n",
    "    if word > 0:\n",
    "      decoder_targets_one_hot[i, t, word] = 1"
   ]
  },
  {
   "cell_type": "markdown",
   "metadata": {
    "colab_type": "text",
    "id": "sXKbrVIiVuIr"
   },
   "source": [
    "##### build the model #####\n"
   ]
  },
  {
   "cell_type": "code",
   "execution_count": 0,
   "metadata": {
    "colab": {},
    "colab_type": "code",
    "id": "k-wLTKquVoSZ"
   },
   "outputs": [],
   "source": [
    "# Set up the encoder - simple!\n",
    "encoder_inputs_placeholder = Input(shape=(max_len_input,))\n",
    "x = embedding_layer(encoder_inputs_placeholder)\n",
    "encoder = Bidirectional(LSTM(\n",
    "  LATENT_DIM,\n",
    "  return_sequences=True,\n",
    "  # dropout=0.5 # dropout not available on gpu\n",
    "))\n",
    "encoder_outputs = encoder(x)"
   ]
  },
  {
   "cell_type": "code",
   "execution_count": 0,
   "metadata": {
    "colab": {},
    "colab_type": "code",
    "id": "jIJr-4M_VoXv"
   },
   "outputs": [],
   "source": [
    "# Set up the decoder - not so simple\n",
    "decoder_inputs_placeholder = Input(shape=(max_len_target,))"
   ]
  },
  {
   "cell_type": "code",
   "execution_count": 0,
   "metadata": {
    "colab": {},
    "colab_type": "code",
    "id": "xFh73ryoVoWD"
   },
   "outputs": [],
   "source": [
    "# this word embedding will not use pre-trained vectors\n",
    "# although you could\n",
    "decoder_embedding = Embedding(num_words_output, EMBEDDING_DIM)\n",
    "decoder_inputs_x = decoder_embedding(decoder_inputs_placeholder)\n",
    "\n"
   ]
  },
  {
   "cell_type": "markdown",
   "metadata": {
    "colab_type": "text",
    "id": "UMXA3uNCV4Fa"
   },
   "source": [
    "######### Attention #########\n"
   ]
  },
  {
   "cell_type": "code",
   "execution_count": 0,
   "metadata": {
    "colab": {},
    "colab_type": "code",
    "id": "BEYPtss_VoPy"
   },
   "outputs": [],
   "source": [
    "# Attention layers need to be global because\n",
    "# they will be repeated Ty times at the decoder\n",
    "attn_repeat_layer = RepeatVector(max_len_input)\n",
    "attn_concat_layer = Concatenate(axis=-1)\n",
    "attn_dense1 = Dense(10, activation='tanh')\n",
    "attn_dense2 = Dense(1, activation=softmax_over_time)\n",
    "attn_dot = Dot(axes=1) # to perform the weighted sum of alpha[t] * h[t]"
   ]
  },
  {
   "cell_type": "code",
   "execution_count": 0,
   "metadata": {
    "colab": {},
    "colab_type": "code",
    "id": "63LrcmbiTaEH"
   },
   "outputs": [],
   "source": [
    "def one_step_attention(h, st_1):\n",
    "  # h = h(1), ..., h(Tx), shape = (Tx, LATENT_DIM * 2)\n",
    "  # st_1 = s(t-1), shape = (LATENT_DIM_DECODER,)\n",
    " \n",
    "  # copy s(t-1) Tx times\n",
    "  # now shape = (Tx, LATENT_DIM_DECODER)\n",
    "  st_1 = attn_repeat_layer(st_1)\n",
    "\n",
    "  # Concatenate all h(t)'s with s(t-1)\n",
    "  # Now of shape (Tx, LATENT_DIM_DECODER + LATENT_DIM * 2)\n",
    "  x = attn_concat_layer([h, st_1])\n",
    "\n",
    "  # Neural net first layer\n",
    "  x = attn_dense1(x)\n",
    "\n",
    "  # Neural net second layer with special softmax over time\n",
    "  alphas = attn_dense2(x)\n",
    "\n",
    "  # \"Dot\" the alphas and the h's\n",
    "  # Remember a.dot(b) = sum over a[t] * b[t]\n",
    "  context = attn_dot([alphas, h])\n",
    "\n",
    "  return context"
   ]
  },
  {
   "cell_type": "code",
   "execution_count": 0,
   "metadata": {
    "colab": {},
    "colab_type": "code",
    "id": "BWepg019TZ_K"
   },
   "outputs": [],
   "source": [
    "# define the rest of the decoder (after attention)\n",
    "decoder_lstm = LSTM(LATENT_DIM_DECODER, return_state=True)\n",
    "decoder_dense = Dense(num_words_output, activation='softmax')"
   ]
  },
  {
   "cell_type": "code",
   "execution_count": 0,
   "metadata": {
    "colab": {},
    "colab_type": "code",
    "id": "Pk2FZQcUWAhK"
   },
   "outputs": [],
   "source": [
    "initial_s = Input(shape=(LATENT_DIM_DECODER,), name='s0')\n",
    "initial_c = Input(shape=(LATENT_DIM_DECODER,), name='c0')\n",
    "context_last_word_concat_layer = Concatenate(axis=2)"
   ]
  },
  {
   "cell_type": "code",
   "execution_count": 0,
   "metadata": {
    "colab": {},
    "colab_type": "code",
    "id": "r5IZE_32WAkI"
   },
   "outputs": [],
   "source": [
    "# s, c will be re-assigned in each iteration of the loop\n",
    "s = initial_s\n",
    "c = initial_c\n",
    "\n",
    "# collect outputs in a list at first\n",
    "outputs = []\n",
    "for t in range(max_len_target): # Ty times\n",
    "  # get the context using attention\n",
    "  context = one_step_attention(encoder_outputs, s)\n",
    "\n",
    "  # we need a different layer for each time step\n",
    "  selector = Lambda(lambda x: x[:, t:t+1])\n",
    "  xt = selector(decoder_inputs_x)\n",
    "  \n",
    "  # combine \n",
    "  decoder_lstm_input = context_last_word_concat_layer([context, xt])\n",
    "\n",
    "  # pass the combined [context, last word] into the LSTM\n",
    "  # along with [s, c]\n",
    "  # get the new [s, c] and output\n",
    "  o, s, c = decoder_lstm(decoder_lstm_input, initial_state=[s, c])\n",
    "\n",
    "  # final dense layer to get next word prediction\n",
    "  decoder_outputs = decoder_dense(o)\n",
    "  outputs.append(decoder_outputs)\n"
   ]
  },
  {
   "cell_type": "code",
   "execution_count": 0,
   "metadata": {
    "colab": {},
    "colab_type": "code",
    "id": "zp4bxG8DWAnC"
   },
   "outputs": [],
   "source": [
    "# 'outputs' is now a list of length Ty\n",
    "# each element is of shape (batch size, output vocab size)\n",
    "# therefore if we simply stack all the outputs into 1 tensor\n",
    "# it would be of shape T x N x D\n",
    "# we would like it to be of shape N x T x D\n",
    "\n",
    "def stack_and_transpose(x):\n",
    "  # x is a list of length T, each element is a batch_size x output_vocab_size tensor\n",
    "  x = K.stack(x) # is now T x batch_size x output_vocab_size tensor\n",
    "  x = K.permute_dimensions(x, pattern=(1, 0, 2)) # is now batch_size x T x output_vocab_size\n",
    "  return x\n",
    "\n",
    "# make it a layer\n",
    "stacker = Lambda(stack_and_transpose)\n",
    "outputs = stacker(outputs)\n"
   ]
  },
  {
   "cell_type": "code",
   "execution_count": 0,
   "metadata": {
    "colab": {},
    "colab_type": "code",
    "id": "cDiiDeN6WAtV"
   },
   "outputs": [],
   "source": [
    "# create the model\n",
    "model = Model(\n",
    "  inputs=[\n",
    "    encoder_inputs_placeholder,\n",
    "    decoder_inputs_placeholder,\n",
    "    initial_s, \n",
    "    initial_c,\n",
    "  ],\n",
    "  outputs=outputs\n",
    ")"
   ]
  },
  {
   "cell_type": "code",
   "execution_count": 0,
   "metadata": {
    "colab": {},
    "colab_type": "code",
    "id": "OR_CNuCcWAwQ"
   },
   "outputs": [],
   "source": [
    "def custom_loss(y_true, y_pred):\n",
    "  # both are of shape N x T x K\n",
    "  mask = K.cast(y_true > 0, dtype='float32')\n",
    "  out = mask * y_true * K.log(y_pred)\n",
    "  return -K.sum(out) / K.sum(mask)"
   ]
  },
  {
   "cell_type": "code",
   "execution_count": 0,
   "metadata": {
    "colab": {},
    "colab_type": "code",
    "id": "PdHOYQNEWA2G"
   },
   "outputs": [],
   "source": [
    "def acc(y_true, y_pred):\n",
    "  # both are of shape N x T x K\n",
    "  targ = K.argmax(y_true, axis=-1)\n",
    "  pred = K.argmax(y_pred, axis=-1)\n",
    "  correct = K.cast(K.equal(targ, pred), dtype='float32')\n",
    "\n",
    "  # 0 is padding, don't include those\n",
    "  mask = K.cast(K.greater(targ, 0), dtype='float32')\n",
    "  n_correct = K.sum(mask * correct)\n",
    "  n_total = K.sum(mask)\n",
    "  return n_correct / n_total"
   ]
  },
  {
   "cell_type": "code",
   "execution_count": 0,
   "metadata": {
    "colab": {},
    "colab_type": "code",
    "id": "j_ZsLQtVWA5O"
   },
   "outputs": [],
   "source": [
    "# compile the model\n",
    "model.compile(optimizer='adam', loss=custom_loss, metrics=[acc])"
   ]
  },
  {
   "cell_type": "code",
   "execution_count": 44,
   "metadata": {
    "colab": {
     "base_uri": "https://localhost:8080/",
     "height": 1000
    },
    "colab_type": "code",
    "id": "Mb7gVlMEWAzX",
    "outputId": "ee2c4faf-b26d-4fc4-f955-15f372b504d5"
   },
   "outputs": [
    {
     "name": "stderr",
     "output_type": "stream",
     "text": [
      "/usr/local/lib/python3.6/dist-packages/tensorflow/python/framework/indexed_slices.py:434: UserWarning: Converting sparse IndexedSlices to a dense Tensor of unknown shape. This may consume a large amount of memory.\n",
      "  \"Converting sparse IndexedSlices to a dense Tensor of unknown shape. \"\n"
     ]
    },
    {
     "name": "stdout",
     "output_type": "stream",
     "text": [
      "Train on 16000 samples, validate on 4000 samples\n",
      "Epoch 1/30\n",
      "16000/16000 [==============================] - 349s 22ms/step - loss: 6.1884 - acc: 0.2524 - val_loss: 6.0467 - val_acc: 0.2401\n",
      "Epoch 2/30\n",
      "16000/16000 [==============================] - 341s 21ms/step - loss: 5.1877 - acc: 0.2861 - val_loss: 5.5222 - val_acc: 0.2645\n",
      "Epoch 3/30\n",
      "16000/16000 [==============================] - 339s 21ms/step - loss: 4.6540 - acc: 0.3185 - val_loss: 5.2345 - val_acc: 0.2900\n",
      "Epoch 4/30\n",
      "16000/16000 [==============================] - 342s 21ms/step - loss: 4.1364 - acc: 0.3642 - val_loss: 4.9009 - val_acc: 0.3331\n",
      "Epoch 5/30\n",
      "16000/16000 [==============================] - 346s 22ms/step - loss: 3.6258 - acc: 0.4179 - val_loss: 4.6987 - val_acc: 0.3678\n",
      "Epoch 6/30\n",
      "16000/16000 [==============================] - 340s 21ms/step - loss: 3.1345 - acc: 0.4664 - val_loss: 4.5006 - val_acc: 0.3929\n",
      "Epoch 7/30\n",
      "16000/16000 [==============================] - 342s 21ms/step - loss: 2.6795 - acc: 0.5125 - val_loss: 4.3960 - val_acc: 0.4126\n",
      "Epoch 8/30\n",
      "16000/16000 [==============================] - 336s 21ms/step - loss: 2.2718 - acc: 0.5552 - val_loss: 4.3472 - val_acc: 0.4216\n",
      "Epoch 9/30\n",
      "16000/16000 [==============================] - 336s 21ms/step - loss: 1.9149 - acc: 0.5977 - val_loss: 4.3051 - val_acc: 0.4286\n",
      "Epoch 10/30\n",
      "16000/16000 [==============================] - 339s 21ms/step - loss: 1.6095 - acc: 0.6420 - val_loss: 4.2694 - val_acc: 0.4385\n",
      "Epoch 11/30\n",
      "16000/16000 [==============================] - 339s 21ms/step - loss: 1.3497 - acc: 0.6896 - val_loss: 4.2738 - val_acc: 0.4480\n",
      "Epoch 12/30\n",
      "16000/16000 [==============================] - 339s 21ms/step - loss: 1.1365 - acc: 0.7313 - val_loss: 4.2737 - val_acc: 0.4542\n",
      "Epoch 13/30\n",
      "16000/16000 [==============================] - 339s 21ms/step - loss: 0.9653 - acc: 0.7671 - val_loss: 4.3017 - val_acc: 0.4531\n",
      "Epoch 14/30\n",
      "16000/16000 [==============================] - 340s 21ms/step - loss: 0.8252 - acc: 0.7972 - val_loss: 4.2978 - val_acc: 0.4570\n",
      "Epoch 15/30\n",
      "16000/16000 [==============================] - 341s 21ms/step - loss: 0.7097 - acc: 0.8221 - val_loss: 4.3696 - val_acc: 0.4576\n",
      "Epoch 16/30\n",
      "16000/16000 [==============================] - 341s 21ms/step - loss: 0.6190 - acc: 0.8402 - val_loss: 4.3392 - val_acc: 0.4622\n",
      "Epoch 17/30\n",
      "16000/16000 [==============================] - 345s 22ms/step - loss: 0.5435 - acc: 0.8561 - val_loss: 4.3719 - val_acc: 0.4637\n",
      "Epoch 18/30\n",
      "16000/16000 [==============================] - 345s 22ms/step - loss: 0.4813 - acc: 0.8694 - val_loss: 4.4308 - val_acc: 0.4611\n",
      "Epoch 19/30\n",
      "16000/16000 [==============================] - 340s 21ms/step - loss: 0.4330 - acc: 0.8796 - val_loss: 4.4607 - val_acc: 0.4656\n",
      "Epoch 20/30\n",
      "16000/16000 [==============================] - 337s 21ms/step - loss: 0.3925 - acc: 0.8853 - val_loss: 4.4755 - val_acc: 0.4678\n",
      "Epoch 21/30\n",
      "16000/16000 [==============================] - 337s 21ms/step - loss: 0.3598 - acc: 0.8913 - val_loss: 4.5022 - val_acc: 0.4673\n",
      "Epoch 22/30\n",
      "16000/16000 [==============================] - 339s 21ms/step - loss: 0.3340 - acc: 0.8953 - val_loss: 4.5451 - val_acc: 0.4646\n",
      "Epoch 23/30\n",
      "16000/16000 [==============================] - 339s 21ms/step - loss: 0.3118 - acc: 0.8983 - val_loss: 4.5722 - val_acc: 0.4674\n",
      "Epoch 24/30\n",
      "16000/16000 [==============================] - 340s 21ms/step - loss: 0.2954 - acc: 0.8994 - val_loss: 4.5516 - val_acc: 0.4675\n",
      "Epoch 25/30\n",
      "16000/16000 [==============================] - 339s 21ms/step - loss: 0.2798 - acc: 0.9032 - val_loss: 4.6231 - val_acc: 0.4690\n",
      "Epoch 26/30\n",
      "16000/16000 [==============================] - 339s 21ms/step - loss: nan - acc: 0.6153 - val_loss: nan - val_acc: 0.0000e+00\n",
      "Epoch 27/30\n",
      "16000/16000 [==============================] - 336s 21ms/step - loss: nan - acc: 0.0000e+00 - val_loss: nan - val_acc: 0.0000e+00\n",
      "Epoch 28/30\n",
      "16000/16000 [==============================] - 345s 22ms/step - loss: nan - acc: 0.0000e+00 - val_loss: nan - val_acc: 0.0000e+00\n",
      "Epoch 29/30\n",
      "16000/16000 [==============================] - 347s 22ms/step - loss: nan - acc: 0.0000e+00 - val_loss: nan - val_acc: 0.0000e+00\n",
      "Epoch 30/30\n",
      "16000/16000 [==============================] - 345s 22ms/step - loss: nan - acc: 0.0000e+00 - val_loss: nan - val_acc: 0.0000e+00\n"
     ]
    }
   ],
   "source": [
    "# train the model\n",
    "z = np.zeros((len(encoder_inputs), LATENT_DIM_DECODER)) # initial [s, c]\n",
    "r = model.fit(\n",
    "  [encoder_inputs, decoder_inputs, z, z], decoder_targets_one_hot,\n",
    "  batch_size=BATCH_SIZE,\n",
    "  epochs=EPOCHS,\n",
    "  validation_split=0.2\n",
    ")"
   ]
  },
  {
   "cell_type": "code",
   "execution_count": 46,
   "metadata": {
    "colab": {
     "base_uri": "https://localhost:8080/",
     "height": 513
    },
    "colab_type": "code",
    "id": "A4o7I1z5WArn",
    "outputId": "f528a727-6766-4f21-edce-54a7bd950298"
   },
   "outputs": [
    {
     "data": {
      "image/png": "[encoded data removed]",
      "text/plain": [
       "<Figure size 432x288 with 1 Axes>"
      ]
     },
     "metadata": {
      "needs_background": "light",
      "tags": []
     },
     "output_type": "display_data"
    },
    {
     "data": {
      "image/png": "[encoded data removed]",
      "text/plain": [
       "<Figure size 432x288 with 1 Axes>"
      ]
     },
     "metadata": {
      "needs_background": "light",
      "tags": []
     },
     "output_type": "display_data"
    }
   ],
   "source": [
    "# plot some data\n",
    "plt.plot(r.history['loss'], label='loss')\n",
    "plt.plot(r.history['val_loss'], label='val_loss')\n",
    "plt.legend()\n",
    "plt.show()\n",
    "\n",
    "# accuracies\n",
    "plt.plot(r.history['acc'], label='acc')\n",
    "plt.plot(r.history['val_acc'], label='val_acc')\n",
    "plt.legend()\n",
    "plt.show()"
   ]
  },
  {
   "cell_type": "code",
   "execution_count": 0,
   "metadata": {
    "colab": {},
    "colab_type": "code",
    "id": "xMOQJqGQWtkM"
   },
   "outputs": [],
   "source": []
  },
  {
   "cell_type": "markdown",
   "metadata": {
    "colab_type": "text",
    "id": "2LkSmo85WxYy"
   },
   "source": [
    "##### Make predictions #####\n"
   ]
  },
  {
   "cell_type": "code",
   "execution_count": 0,
   "metadata": {
    "colab": {},
    "colab_type": "code",
    "id": "gUHKDC3cWttL"
   },
   "outputs": [],
   "source": [
    "# As with the poetry example, we need to create another model\n",
    "# that can take in the RNN state and previous word as input\n",
    "# and accept a T=1 sequence.\n",
    "\n",
    "# The encoder will be stand-alone\n",
    "# From this we will get our initial decoder hidden state\n",
    "# i.e. h(1), ..., h(Tx)\n",
    "encoder_model = Model(encoder_inputs_placeholder, encoder_outputs)"
   ]
  },
  {
   "cell_type": "code",
   "execution_count": 0,
   "metadata": {
    "colab": {},
    "colab_type": "code",
    "id": "_qIAJuvRWtyW"
   },
   "outputs": [],
   "source": [
    "# next we define a T=1 decoder model\n",
    "encoder_outputs_as_input = Input(shape=(max_len_input, LATENT_DIM * 2,))\n",
    "decoder_inputs_single = Input(shape=(1,))\n",
    "decoder_inputs_single_x = decoder_embedding(decoder_inputs_single)"
   ]
  },
  {
   "cell_type": "code",
   "execution_count": 0,
   "metadata": {
    "colab": {},
    "colab_type": "code",
    "id": "aqJc3_dUWt1f"
   },
   "outputs": [],
   "source": [
    "# no need to loop over attention steps this time because there is only one step\n",
    "context = one_step_attention(encoder_outputs_as_input, initial_s)"
   ]
  },
  {
   "cell_type": "code",
   "execution_count": 0,
   "metadata": {
    "colab": {},
    "colab_type": "code",
    "id": "AAp0YkTmWt5K"
   },
   "outputs": [],
   "source": [
    "# combine context with last word\n",
    "decoder_lstm_input = context_last_word_concat_layer([context, decoder_inputs_single_x])"
   ]
  },
  {
   "cell_type": "code",
   "execution_count": 0,
   "metadata": {
    "colab": {},
    "colab_type": "code",
    "id": "JL0lsUheWtwc"
   },
   "outputs": [],
   "source": [
    "# lstm and final dense\n",
    "o, s, c = decoder_lstm(decoder_lstm_input, initial_state=[initial_s, initial_c])\n",
    "decoder_outputs = decoder_dense(o)"
   ]
  },
  {
   "cell_type": "code",
   "execution_count": 0,
   "metadata": {
    "colab": {},
    "colab_type": "code",
    "id": "dYeoHdrGWtqR"
   },
   "outputs": [],
   "source": [
    "# note: we don't really need the final stack and tranpose\n",
    "# because there's only 1 output\n",
    "# it is already of size N x D\n",
    "# no need to make it 1 x N x D --> N x 1 x D\n",
    "\n",
    "\n",
    "\n",
    "# create the model object\n",
    "decoder_model = Model(\n",
    "  inputs=[\n",
    "    decoder_inputs_single,\n",
    "    encoder_outputs_as_input,\n",
    "    initial_s, \n",
    "    initial_c\n",
    "  ],\n",
    "  outputs=[decoder_outputs, s, c]\n",
    ")"
   ]
  },
  {
   "cell_type": "code",
   "execution_count": 0,
   "metadata": {
    "colab": {},
    "colab_type": "code",
    "id": "j0t8TZaMWtnp"
   },
   "outputs": [],
   "source": [
    "# map indexes back into real words\n",
    "# so we can view the results\n",
    "idx2word_eng = {v:k for k, v in word2idx_inputs.items()}\n",
    "idx2word_trans = {v:k for k, v in word2idx_outputs.items()}"
   ]
  },
  {
   "cell_type": "code",
   "execution_count": 0,
   "metadata": {
    "colab": {},
    "colab_type": "code",
    "id": "YCSRUO4jW-7u"
   },
   "outputs": [],
   "source": [
    "def decode_sequence(input_seq):\n",
    "  # Encode the input as state vectors.\n",
    "  enc_out = encoder_model.predict(input_seq)\n",
    "\n",
    "  # Generate empty target sequence of length 1.\n",
    "  target_seq = np.zeros((1, 1))\n",
    "  \n",
    "  # Populate the first character of target sequence with the start character.\n",
    "  # NOTE: tokenizer lower-cases all words\n",
    "  target_seq[0, 0] = word2idx_outputs['<sos>']\n",
    "\n",
    "  # if we get this we break\n",
    "  eos = word2idx_outputs['<eos>']\n",
    "\n",
    "\n",
    "  # [s, c] will be updated in each loop iteration\n",
    "  s = np.zeros((1, LATENT_DIM_DECODER))\n",
    "  c = np.zeros((1, LATENT_DIM_DECODER))\n",
    "\n",
    "  # Create the translation\n",
    "  output_sentence = []\n",
    "  for _ in range(max_len_target):\n",
    "    o, s, c = decoder_model.predict([target_seq, enc_out, s, c])\n",
    "        \n",
    "\n",
    "    # Get next word\n",
    "    idx = np.argmax(o.flatten())\n",
    "\n",
    "    # End sentence of EOS\n",
    "    if eos == idx:\n",
    "      break\n",
    "\n",
    "    word = ''\n",
    "    if idx > 0:\n",
    "      word = idx2word_trans[idx]\n",
    "      output_sentence.append(word)\n",
    "\n",
    "    # Update the decoder input\n",
    "    # which is just the word just generated\n",
    "    target_seq[0, 0] = idx\n",
    "\n",
    "  return ' '.join(output_sentence)"
   ]
  },
  {
   "cell_type": "code",
   "execution_count": 0,
   "metadata": {
    "colab": {
     "base_uri": "https://localhost:8080/",
     "height": 1000
    },
    "colab_type": "code",
    "id": "S0ZjOJDpXCrf",
    "outputId": "af09b73f-081c-428d-e271-e9d654bb708d"
   },
   "outputs": [
    {
     "name": "stdout",
     "output_type": "stream",
     "text": [
      "-\n",
      "Input sentence: You can't go now.\n",
      "Predicted translation: \n",
      "Actual translation: No te puedes ir ahora. <eos>\n",
      "Continue? [Y/n]y\n",
      "-\n",
      "Input sentence: I did my best.\n",
      "Predicted translation: \n",
      "Actual translation: Lo hice lo mejor que pude. <eos>\n",
      "Continue? [Y/n]y\n",
      "-\n",
      "Input sentence: Did you see that?\n",
      "Predicted translation: \n",
      "Actual translation: ¿Lo viste? <eos>\n",
      "Continue? [Y/n]y\n",
      "-\n",
      "Input sentence: We've been looking.\n",
      "Predicted translation: \n",
      "Actual translation: Hemos estado mirando. <eos>\n",
      "Continue? [Y/n]y\n",
      "-\n",
      "Input sentence: I'll read it.\n",
      "Predicted translation: \n",
      "Actual translation: Lo voy a leer. <eos>\n",
      "Continue? [Y/n]y\n",
      "-\n",
      "Input sentence: We're sleepy.\n",
      "Predicted translation: \n",
      "Actual translation: Tenemos sueño. <eos>\n",
      "Continue? [Y/n]y\n",
      "-\n",
      "Input sentence: Hide the money.\n",
      "Predicted translation: \n",
      "Actual translation: Escondé la plata. <eos>\n",
      "Continue? [Y/n]y\n",
      "-\n",
      "Input sentence: Shut up!\n",
      "Predicted translation: \n",
      "Actual translation: ¡Cierra la boca! <eos>\n",
      "Continue? [Y/n]y\n",
      "-\n",
      "Input sentence: Tom was unreliable.\n",
      "Predicted translation: \n",
      "Actual translation: Tom no era de fiar. <eos>\n",
      "Continue? [Y/n]y\n",
      "-\n",
      "Input sentence: I'll be seeing you.\n",
      "Predicted translation: \n",
      "Actual translation: Estamos en contacto. <eos>\n",
      "Continue? [Y/n]y\n",
      "-\n",
      "Input sentence: I'm not lucky.\n",
      "Predicted translation: \n",
      "Actual translation: No tengo suerte. <eos>\n",
      "Continue? [Y/n]y\n",
      "-\n",
      "Input sentence: Why are you mad?\n",
      "Predicted translation: \n",
      "Actual translation: ¿Por qué estás enfadada? <eos>\n",
      "Continue? [Y/n]y\n",
      "-\n",
      "Input sentence: Get inside.\n",
      "Predicted translation: \n",
      "Actual translation: Entra. <eos>\n",
      "Continue? [Y/n]y\n",
      "-\n",
      "Input sentence: Hand me the letter.\n",
      "Predicted translation: \n",
      "Actual translation: Entrégueme la carta. <eos>\n",
      "Continue? [Y/n]y\n",
      "-\n",
      "Input sentence: Let me go alone.\n",
      "Predicted translation: \n",
      "Actual translation: Déjame ir solo. <eos>\n",
      "Continue? [Y/n]y\n",
      "-\n",
      "Input sentence: Did you invite him?\n",
      "Predicted translation: \n",
      "Actual translation: ¿Le invitaste? <eos>\n",
      "Continue? [Y/n]y\n",
      "-\n",
      "Input sentence: Tom cut Mary off.\n",
      "Predicted translation: \n",
      "Actual translation: Tom cortó a Mary. <eos>\n",
      "Continue? [Y/n]y\n",
      "-\n",
      "Input sentence: Don't rely on him.\n",
      "Predicted translation: \n",
      "Actual translation: No te fíes de él. <eos>\n",
      "Continue? [Y/n]y\n",
      "-\n",
      "Input sentence: I'm angry with her.\n",
      "Predicted translation: \n",
      "Actual translation: Estoy enfadado con ella. <eos>\n",
      "Continue? [Y/n]y\n",
      "-\n",
      "Input sentence: I feel feverish.\n",
      "Predicted translation: \n",
      "Actual translation: Estoy febril. <eos>\n",
      "Continue? [Y/n]y\n",
      "-\n",
      "Input sentence: There's no hurry.\n",
      "Predicted translation: \n",
      "Actual translation: No hay prisa. <eos>\n",
      "Continue? [Y/n]y\n",
      "-\n",
      "Input sentence: I have no doubts.\n",
      "Predicted translation: \n",
      "Actual translation: No tengo ninguna duda. <eos>\n",
      "Continue? [Y/n]y\n",
      "-\n",
      "Input sentence: You look fat.\n",
      "Predicted translation: \n",
      "Actual translation: Te ves gordo. <eos>\n",
      "Continue? [Y/n]y\n",
      "-\n",
      "Input sentence: They smell bad.\n",
      "Predicted translation: \n",
      "Actual translation: Ellos huelen mal. <eos>\n",
      "Continue? [Y/n]y\n",
      "-\n",
      "Input sentence: I don't drink.\n",
      "Predicted translation: \n",
      "Actual translation: Yo no bebo. <eos>\n",
      "Continue? [Y/n]y\n",
      "-\n",
      "Input sentence: It's Tom's job.\n",
      "Predicted translation: \n",
      "Actual translation: Es el trabajo de Tom. <eos>\n",
      "Continue? [Y/n]y\n",
      "-\n",
      "Input sentence: You aren't invited.\n",
      "Predicted translation: \n",
      "Actual translation: No estás invitado. <eos>\n",
      "Continue? [Y/n]\n",
      "-\n",
      "Input sentence: Are you in?\n",
      "Predicted translation: \n",
      "Actual translation: ¿Estás dentro? <eos>\n",
      "Continue? [Y/n]\n",
      "-\n",
      "Input sentence: We met in college.\n",
      "Predicted translation: \n",
      "Actual translation: Nos conocimos en la facultad. <eos>\n",
      "Continue? [Y/n]\n",
      "Continue? [Y/n]\n",
      "-\n",
      "Input sentence: Give us a hand.\n",
      "Predicted translation: \n",
      "Actual translation: Ayúdanos. <eos>\n",
      "-\n",
      "Input sentence: Where is your tie?\n",
      "Predicted translation: \n",
      "Actual translation: ¿Dónde está vuestra corbata? <eos>\n",
      "Continue? [Y/n]\n",
      "-\n",
      "Input sentence: You're in love.\n",
      "Predicted translation: \n",
      "Actual translation: Estás enamorado. <eos>\n",
      "Continue? [Y/n]y\n",
      "-\n",
      "Input sentence: This is hilarious.\n",
      "Predicted translation: \n",
      "Actual translation: Esto es graciosísimo. <eos>\n",
      "Continue? [Y/n]y\n",
      "-\n",
      "Input sentence: He is distracted.\n",
      "Predicted translation: \n",
      "Actual translation: Él está distraído. <eos>\n",
      "Continue? [Y/n]y\n",
      "-\n",
      "Input sentence: I felt left out.\n",
      "Predicted translation: \n",
      "Actual translation: Sentí que me daban de lado. <eos>\n",
      "Continue? [Y/n]y\n",
      "-\n",
      "Input sentence: Hold on.\n",
      "Predicted translation: \n",
      "Actual translation: Resiste. <eos>\n"
     ]
    }
   ],
   "source": [
    "while True:\n",
    "  # Do some test translations\n",
    "  i = np.random.choice(len(input_texts))\n",
    "  input_seq = encoder_inputs[i:i+1]\n",
    "  translation = decode_sequence(input_seq)\n",
    "  print('-')\n",
    "  print('Input sentence:', input_texts[i])\n",
    "  print('Predicted translation:', translation)\n",
    "  print('Actual translation:', target_texts[i])\n",
    "\n",
    "  ans = input(\"Continue? [Y/n]\")\n",
    "  if ans and ans.lower().startswith('n'):\n",
    "    break"
   ]
  },
  {
   "cell_type": "code",
   "execution_count": 0,
   "metadata": {
    "colab": {},
    "colab_type": "code",
    "id": "9WU2Kr5VXCzl"
   },
   "outputs": [],
   "source": []
  },
  {
   "cell_type": "code",
   "execution_count": 0,
   "metadata": {
    "colab": {},
    "colab_type": "code",
    "id": "AbkMj_ETW_CI"
   },
   "outputs": [],
   "source": []
  },
  {
   "cell_type": "code",
   "execution_count": 0,
   "metadata": {
    "colab": {},
    "colab_type": "code",
    "id": "-aH9hx_dW_Fn"
   },
   "outputs": [],
   "source": []
  },
  {
   "cell_type": "code",
   "execution_count": 0,
   "metadata": {
    "colab": {},
    "colab_type": "code",
    "id": "5kn6_bvKW-_V"
   },
   "outputs": [],
   "source": []
  }
 ],
 "metadata": {
  "colab": {
   "name": "Untitled2.ipynb",
   "provenance": []
  },
  "kernelspec": {
   "display_name": "Python 3",
   "language": "python",
   "name": "python3"
  },
  "language_info": {
   "codemirror_mode": {
    "name": "ipython",
    "version": 3
   },
   "file_extension": ".py",
   "mimetype": "text/x-python",
   "name": "python",
   "nbconvert_exporter": "python",
   "pygments_lexer": "ipython3",
   "version": "3.6.10"
  }
 },
 "nbformat": 4,
 "nbformat_minor": 1
}
